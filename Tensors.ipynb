{
 "cells": [
  {
   "cell_type": "markdown",
   "id": "6a1be7eb-7ea5-4ff0-b2b4-e7d66a72ff02",
   "metadata": {},
   "source": [
    "# Tensors"
   ]
  },
  {
   "cell_type": "markdown",
   "id": "7a770cf0-2ca1-414e-8a95-3cf2686aada0",
   "metadata": {},
   "source": [
    "#### A Tensor is a multidimensional array — a generalization of scalars, vectors, and matrices — used to store data (like numbers or images) in machine learning and deep learning. "
   ]
  },
  {
   "cell_type": "code",
   "execution_count": 6,
   "id": "563fa4be-f7ec-4bf0-addd-d1f30e2c6548",
   "metadata": {},
   "outputs": [
    {
     "name": "stdout",
     "output_type": "stream",
     "text": [
      "Scalar shape: ()\n",
      "Vector shape: (3,)\n",
      "Matrix shape: (2, 3)\n",
      "3D Tensor shape: (2, 2, 2)\n"
     ]
    }
   ],
   "source": [
    "# Tensor example in Numpy\n",
    "\n",
    "import numpy as np\n",
    "\n",
    "# Scalar (0D)\n",
    "scalar = np.array(5)\n",
    "\n",
    "# Vector (1D)\n",
    "vector = np.array([1, 2, 3])\n",
    "\n",
    "# Matrix (2D)\n",
    "matrix = np.array([[1, 2, 3], [4, 5, 6]])\n",
    "\n",
    "# 3D Tensor\n",
    "tensor_3d = np.array([[[1, 2], [3, 4]], [[5, 6], [7, 8]]])\n",
    "\n",
    "print(\"Scalar shape:\", scalar.shape)\n",
    "print(\"Vector shape:\", vector.shape)\n",
    "print(\"Matrix shape:\", matrix.shape)\n",
    "print(\"3D Tensor shape:\", tensor_3d.shape)\n"
   ]
  },
  {
   "cell_type": "code",
   "execution_count": null,
   "id": "23e1883b-c528-465c-80ea-388725244f9f",
   "metadata": {},
   "outputs": [],
   "source": [
    "import tensorflow as tf\n",
    "\n",
    "# Create tensors\n",
    "a = tf.constant(5)                       # Scalar\n",
    "b = tf.constant([1, 2, 3])               # Vector\n",
    "c = tf.constant([[1, 2], [3, 4]])        # Matrix\n",
    "\n",
    "print(a.shape)  # ()\n",
    "print(b.shape)  # (3,)\n",
    "print(c.shape)  # (2, 2)\n"
   ]
  },
  {
   "cell_type": "code",
   "execution_count": null,
   "id": "74d443c8-f02a-4ee4-819e-aaf372303ab7",
   "metadata": {},
   "outputs": [],
   "source": [
    "x = tf.constant([[1, 2], [3, 4]])\n",
    "y = tf.constant([[5, 6], [7, 8]])\n",
    "\n",
    "print(tf.add(x, y))      # Element-wise addition\n",
    "print(tf.matmul(x, y))   # Matrix multiplication\n",
    "print(tf.transpose(x))   # Transpose\n"
   ]
  },
  {
   "cell_type": "code",
   "execution_count": 18,
   "id": "4927a9a0-c69e-454c-9877-dbf2f3412f2c",
   "metadata": {},
   "outputs": [
    {
     "name": "stdout",
     "output_type": "stream",
     "text": [
      "torch.Size([2, 3])\n",
      "torch.int64\n",
      "cpu\n"
     ]
    }
   ],
   "source": [
    "# Tesnor in pytorch\n",
    "import torch\n",
    "\n",
    "x = torch.tensor([[1, 2, 3], [4, 5, 6]])\n",
    "print(x.shape)       # torch.Size([2, 3])\n",
    "print(x.dtype)       # Data type (e.g., torch.int64)\n",
    "print(x.device)      # Device (CPU or GPU)\n"
   ]
  },
  {
   "cell_type": "code",
   "execution_count": null,
   "id": "dbf1dd7d-f6f4-4eb4-80f4-1aa8b30d8adf",
   "metadata": {},
   "outputs": [],
   "source": []
  }
 ],
 "metadata": {
  "kernelspec": {
   "display_name": "Python 3 (ipykernel)",
   "language": "python",
   "name": "python3"
  },
  "language_info": {
   "codemirror_mode": {
    "name": "ipython",
    "version": 3
   },
   "file_extension": ".py",
   "mimetype": "text/x-python",
   "name": "python",
   "nbconvert_exporter": "python",
   "pygments_lexer": "ipython3",
   "version": "3.12.4"
  }
 },
 "nbformat": 4,
 "nbformat_minor": 5
}
